{
 "cells": [
  {
   "cell_type": "code",
   "execution_count": 17,
   "metadata": {},
   "outputs": [
    {
     "name": "stdout",
     "output_type": "stream",
     "text": [
      "Downloaded json_files/rankings/gamemaster.json\n",
      "{'title': 'Master Premier', 'cup': 'premier', 'cp': 10000, 'meta': 'premiermaster', 'showCup': True, 'showFormat': True, 'showMeta': True}\n",
      "{'title': 'Little Cup', 'cup': 'little', 'cp': 500, 'meta': 'little', 'showCup': True, 'showFormat': True, 'showMeta': True}\n",
      "{'title': 'Sunshine Cup', 'cup': 'sunshine', 'cp': 1500, 'meta': 'sunshine', 'showCup': True, 'showFormat': True, 'showMeta': True}\n",
      "{'title': 'Element Cup', 'cup': 'element', 'cp': 500, 'meta': 'element', 'showCup': True, 'showFormat': True, 'showMeta': True}\n",
      "{'title': 'Silph Factions (Master League)', 'cup': 'factionsmaster', 'cp': 10000, 'meta': 'masterfactions', 'showCup': True, 'showFormat': True, 'showMeta': True}\n",
      "{'title': 'Silph Factions (Justicar)', 'cup': 'justicar', 'cp': 2500, 'meta': 'justicar', 'showCup': True, 'showFormat': True, 'showMeta': True, 'hideRankings': False}\n",
      "{'title': 'Silph Factions (Arcana)', 'cup': 'arcana', 'cp': 1500, 'meta': 'arcana', 'showCup': True, 'showFormat': True, 'showMeta': True}\n",
      "{'title': 'Silph Factions (Catacomb)', 'cup': 'catacomb', 'cp': 1500, 'meta': 'catacomb', 'showCup': True, 'showFormat': True, 'showMeta': True}\n",
      "{'title': 'Silph Polkadot Cup', 'cup': 'polkadot', 'cp': 1500, 'meta': 'polkadot', 'showCup': True, 'showFormat': True, 'showMeta': True, 'hideRankings': False}\n",
      "{'title': 'Custom', 'cup': 'custom', 'cp': 1500, 'meta': 'great', 'showCup': True, 'showFormat': True, 'showMeta': False}\n"
     ]
    }
   ],
   "source": [
    "import os\n",
    "import requests\n",
    "import json\n",
    "\n",
    "def update_format_select(formats):\n",
    "    visible_formats = [format for format in formats if format['showFormat'] and not format.get('hideRankings', False)]\n",
    "    return visible_formats\n",
    "\n",
    "\n",
    "def download_current_cups():\n",
    "    repo_owner = 'pvpoke'\n",
    "    repo_name = 'pvpoke'\n",
    "    file_path = 'src/data/gamemaster.json'\n",
    "    destination_directory = 'json_files/rankings'\n",
    "\n",
    "    headers = {'Accept': 'application/vnd.github+json'}\n",
    "    url = f'https://api.github.com/repos/{repo_owner}/{repo_name}/contents/{file_path}'\n",
    "    response = requests.get(url, headers=headers)\n",
    "\n",
    "    if response.status_code == 200:\n",
    "        file_info = response.json()\n",
    "        download_url = file_info['download_url']\n",
    "        file_name = file_info['name']\n",
    "\n",
    "        local_path = os.path.join(destination_directory, file_name)\n",
    "\n",
    "        file_content = requests.get(download_url).content\n",
    "        with open(local_path, 'wb') as f:\n",
    "            f.write(file_content)\n",
    "            print(f\"Downloaded {local_path}\")\n",
    "\n",
    "    # Load JSON data\n",
    "    with open(local_path) as f:\n",
    "        data = json.load(f)\n",
    "\n",
    "    # Extract formats and call update_format_select\n",
    "    formats = data['formats']\n",
    "\n",
    "    return update_format_select(formats)\n",
    "\n",
    "visible_formats = download_current_cups()\n",
    "# Print visible formats\n",
    "for format in visible_formats:\n",
    "    # print(format['title'])\n",
    "    print(format)\n"
   ]
  },
  {
   "cell_type": "code",
   "execution_count": 1,
   "metadata": {},
   "outputs": [],
   "source": [
    "def load_ranking_data(cup, category, league):\n",
    "    key = f\"{cup}{category}{league}\"\n",
    "    object_rankings = {}\n",
    "    repo_owner = 'pvpoke'\n",
    "    repo_name = 'pvpoke'\n",
    "    headers = {'Accept': 'application/vnd.github+json'}\n",
    "    if key not in object_rankings:\n",
    "        file_path = f\"src/data/rankings/{cup}/{category}/rankings-{league}.json\"\n",
    "        url = f'https://api.github.com/repos/{repo_owner}/{repo_name}/contents/{file_path}'\n",
    "\n",
    "        response = requests.get(url, headers=headers)\n",
    "        if response.status_code == 200:\n",
    "            file_info = response.json()\n",
    "            download_url = file_info['download_url']\n",
    "\n",
    "            file_content = requests.get(download_url).content\n",
    "            data = json.loads(file_content)\n",
    "\n",
    "            object_rankings[key] = data\n",
    "\n",
    "            return data\n",
    "        else:\n",
    "            print(f\"Failed to get file content\")\n",
    "    else:\n",
    "        return object_rankings[key]"
   ]
  },
  {
   "cell_type": "code",
   "execution_count": 2,
   "metadata": {},
   "outputs": [
    {
     "ename": "NameError",
     "evalue": "name 'visible_formats' is not defined",
     "output_type": "error",
     "traceback": [
      "\u001b[0;31m---------------------------------------------------------------------------\u001b[0m",
      "\u001b[0;31mNameError\u001b[0m                                 Traceback (most recent call last)",
      "Cell \u001b[0;32mIn[2], line 1\u001b[0m\n\u001b[0;32m----> 1\u001b[0m \u001b[39mfor\u001b[39;00m \u001b[39mformat\u001b[39m \u001b[39min\u001b[39;00m visible_formats:\n\u001b[1;32m      2\u001b[0m     \u001b[39mif\u001b[39;00m \u001b[39mformat\u001b[39m[\u001b[39m'\u001b[39m\u001b[39mtitle\u001b[39m\u001b[39m'\u001b[39m]\u001b[39m!=\u001b[39m\u001b[39m'\u001b[39m\u001b[39mCustom\u001b[39m\u001b[39m'\u001b[39m:\n\u001b[1;32m      3\u001b[0m         cup \u001b[39m=\u001b[39m \u001b[39mformat\u001b[39m[\u001b[39m'\u001b[39m\u001b[39mcup\u001b[39m\u001b[39m'\u001b[39m]\n",
      "\u001b[0;31mNameError\u001b[0m: name 'visible_formats' is not defined"
     ]
    }
   ],
   "source": [
    "for format in visible_formats:\n",
    "    if format['title']!='Custom':\n",
    "        cup = format['cup']\n",
    "        category = 'overall'  \n",
    "        league = format['cp'] \n",
    "        data = load_ranking_data(cup, category, league)\n",
    "        print(data)\n"
   ]
  }
 ],
 "metadata": {
  "kernelspec": {
   "display_name": ".venv",
   "language": "python",
   "name": "python3"
  },
  "language_info": {
   "codemirror_mode": {
    "name": "ipython",
    "version": 3
   },
   "file_extension": ".py",
   "mimetype": "text/x-python",
   "name": "python",
   "nbconvert_exporter": "python",
   "pygments_lexer": "ipython3",
   "version": "3.10.6"
  },
  "orig_nbformat": 4
 },
 "nbformat": 4,
 "nbformat_minor": 2
}
