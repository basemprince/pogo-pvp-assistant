{
 "cells": [
  {
   "cell_type": "code",
   "execution_count": null,
   "metadata": {},
   "outputs": [],
   "source": [
    "import cv2\n",
    "from ultralytics import YOLO\n",
    "from PyQt5.QtWidgets import QApplication, QWidget, QVBoxLayout, QLabel\n",
    "from PyQt5.QtCore import QTimer\n",
    "from PyQt5.QtGui import QImage, QPixmap\n",
    "from adbutils import adb\n",
    "import scrcpy.core as scrcpy\n",
    "import sys"
   ]
  },
  {
   "cell_type": "code",
   "execution_count": null,
   "metadata": {},
   "outputs": [],
   "source": [
    "phones = ['Pixel 3 XL', 'Pixel 7 Pro']\n",
    "adb.connect(\"127.0.0.1:5037\")\n",
    "client = scrcpy.Client(device=adb.device_list()[0])\n",
    "client.start(threaded=True)\n",
    "print(client.device_name)\n",
    "phone_t = phones.index(client.device_name)"
   ]
  },
  {
   "cell_type": "code",
   "execution_count": null,
   "metadata": {},
   "outputs": [],
   "source": [
    "# Load the YOLOv8 model\n",
    "model = YOLO(\"yolo_models/yolov8x.pt\")\n",
    "\n",
    "update_timer = 1\n",
    "\n",
    "\n",
    "def yolo_inference(image):\n",
    "    # Perform inference\n",
    "    results = model(image)\n",
    "\n",
    "    # Get the bounding box data\n",
    "    bbox_data = results[0].boxes.data\n",
    "\n",
    "    # Map class IDs to class names\n",
    "    class_names = results[0].names\n",
    "\n",
    "    # Check if there are any detections\n",
    "    if bbox_data.shape[0] > 0:\n",
    "        for bbox in bbox_data:\n",
    "            # Extract bounding box coordinates\n",
    "            x1, y1, x2, y2, conf, cls = bbox.tolist()\n",
    "\n",
    "            # Convert coordinates to integers\n",
    "            x1, y1, x2, y2 = map(int, [x1, y1, x2, y2])\n",
    "\n",
    "            # Draw bounding box on the image\n",
    "            cv2.rectangle(image, (x1, y1), (x2, y2), (0, 255, 0), 5)\n",
    "\n",
    "            # Draw class name and confidence on the image\n",
    "            class_name = class_names[int(cls)]\n",
    "            cv2.putText(image, f'{class_name} {conf:.2f}', (x1, y1 - 10), cv2.FONT_HERSHEY_SIMPLEX, 0.9, (0, 255, 0), 5)\n",
    "\n",
    "    return image\n",
    "\n",
    "\n",
    "def update_ui():\n",
    "    screen = client.last_frame\n",
    "\n",
    "    if screen is not None:\n",
    "        # Perform YOLO inference and get results\n",
    "        screen_infrenced = yolo_inference(screen)\n",
    "        \n",
    "        scale_percent = 50\n",
    "        width = int(screen_infrenced.shape[1] * scale_percent / 100)\n",
    "        height = int(screen_infrenced.shape[0] * scale_percent / 100)\n",
    "        dim = (width, height)\n",
    "        resized_image = cv2.resize(screen_infrenced, dim, interpolation=cv2.INTER_AREA)\n",
    "        resized_image = cv2.cvtColor(resized_image, cv2.COLOR_BGR2RGB)\n",
    "\n",
    "        height, width, channel = resized_image.shape\n",
    "        bytes_per_line = channel * width\n",
    "        qimage = QImage(resized_image.data, width, height, bytes_per_line, QImage.Format_RGB888)\n",
    "        pixmap = QPixmap.fromImage(qimage)\n",
    "        screenshot_label.setPixmap(pixmap)\n",
    "\n",
    "    QTimer.singleShot(update_timer, update_ui)\n",
    "\n",
    "\n",
    "app = QApplication(sys.argv)\n",
    "window = QWidget()\n",
    "window.setWindowTitle(\"Pokémon Information Display\")\n",
    "layout = QVBoxLayout()\n",
    "\n",
    "\n",
    "screenshot_label = QLabel()\n",
    "layout.addWidget(screenshot_label)\n",
    "\n",
    "window.setLayout(layout)\n",
    "window.show()\n",
    "\n",
    "# Start the update loop\n",
    "QTimer.singleShot(update_timer, update_ui)\n",
    "\n",
    "app.exec_()"
   ]
  }
 ],
 "metadata": {
  "kernelspec": {
   "display_name": "Python 3.9.10 64-bit",
   "language": "python",
   "name": "python3"
  },
  "language_info": {
   "codemirror_mode": {
    "name": "ipython",
    "version": 3
   },
   "file_extension": ".py",
   "mimetype": "text/x-python",
   "name": "python",
   "nbconvert_exporter": "python",
   "pygments_lexer": "ipython3",
   "version": "3.10.6"
  },
  "orig_nbformat": 4,
  "vscode": {
   "interpreter": {
    "hash": "949777d72b0d2535278d3dc13498b2535136f6dfe0678499012e853ee9abcab1"
   }
  }
 },
 "nbformat": 4,
 "nbformat_minor": 2
}
