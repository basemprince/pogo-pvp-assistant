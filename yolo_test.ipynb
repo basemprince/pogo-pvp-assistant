{
 "cells": [
  {
   "cell_type": "code",
   "execution_count": null,
   "metadata": {},
   "outputs": [],
   "source": [
    "import cv2\n",
    "from ultralytics import YOLO\n",
    "import scrcpy.core as scrcpy\n",
    "import tkinter as tk\n",
    "import customtkinter as ctk\n",
    "import utils\n",
    "from PIL import Image"
   ]
  },
  {
   "cell_type": "code",
   "execution_count": null,
   "metadata": {},
   "outputs": [],
   "source": [
    "img_scale = 0.3\n",
    "update_timer = 1\n",
    "client = utils.connect_to_device(\"127.0.0.1:5037\")\n",
    "# Load the YOLOv8 model\n",
    "model = YOLO(\"yolo_models/yolov8n.pt\")\n",
    "model.to(\"cuda:0\")\n",
    "feed_res = (int(client.resolution[0] * img_scale), int(client.resolution[1] * img_scale))"
   ]
  },
  {
   "cell_type": "code",
   "execution_count": null,
   "metadata": {},
   "outputs": [],
   "source": [
    "class PokemonBattleAssistant(ctk.CTk):\n",
    "    def __init__(self, feed_res):\n",
    "        super().__init__()\n",
    "        self.title(\"Pokemon Battle Assistant\")\n",
    "        self.feed_res = feed_res\n",
    "\n",
    "        mainframe = ctk.CTkFrame(self)\n",
    "        mainframe.grid(column=0, row=0, sticky=(tk.W, tk.E, tk.N, tk.S), padx=30, pady=20)\n",
    "\n",
    "        pil_image = Image.new(\"RGB\", feed_res)\n",
    "        self.my_image = ctk.CTkImage(light_image=pil_image, dark_image=pil_image, size=feed_res)\n",
    "        self.image_label = ctk.CTkLabel(mainframe, text=\"\", image=self.my_image)\n",
    "        self.image_label.grid(column=0, row=3, pady=0)\n",
    "        self.screen = None\n",
    "\n",
    "    def yolo_inference(self, frame):\n",
    "        # Perform inference\n",
    "        self.screen = frame.copy()  # Create a copy of the frame\n",
    "        results = model(self.screen, verbose=False)\n",
    "        # Get the bounding box data\n",
    "        bbox_data = results[0].boxes.data\n",
    "\n",
    "        # Map class IDs to class names\n",
    "        class_names = results[0].names\n",
    "\n",
    "        # Check if there are any detections\n",
    "        if bbox_data.shape[0] > 0:\n",
    "            for bbox in bbox_data:\n",
    "                # Extract bounding box coordinates\n",
    "                x1, y1, x2, y2, conf, cls = bbox.tolist()\n",
    "\n",
    "                # Convert coordinates to integers\n",
    "                x1, y1, x2, y2 = map(int, [x1, y1, x2, y2])\n",
    "\n",
    "                # Draw bounding box on the image\n",
    "                cv2.rectangle(self.screen, (x1, y1), (x2, y2), (0, 255, 0), 5)\n",
    "\n",
    "                # Draw class name and confidence on the image\n",
    "                class_name = class_names[int(cls)]\n",
    "                cv2.putText(\n",
    "                    self.screen,\n",
    "                    f\"{class_name} {conf:.2f}\",\n",
    "                    (x1, y1 - 10),\n",
    "                    cv2.FONT_HERSHEY_SIMPLEX,\n",
    "                    0.9,\n",
    "                    (0, 255, 0),\n",
    "                    5,\n",
    "                )\n",
    "\n",
    "    def update_ui(self, client):\n",
    "        original_screen = client.last_frame\n",
    "        if original_screen is not None:\n",
    "            self.yolo_inference(original_screen)\n",
    "            resized_image = cv2.resize(self.screen, self.feed_res, interpolation=cv2.INTER_AREA)\n",
    "            resized_image = cv2.cvtColor(resized_image, cv2.COLOR_BGR2RGB)\n",
    "            pil_img = Image.fromarray(resized_image)\n",
    "            self.my_image.configure(light_image=pil_img, dark_image=pil_img)\n",
    "\n",
    "        app.after(update_timer, lambda: self.update_ui(client))\n",
    "\n",
    "\n",
    "if __name__ == \"__main__\":\n",
    "    app = PokemonBattleAssistant(feed_res)\n",
    "    app.update_ui(client)\n",
    "    app.mainloop()"
   ]
  }
 ],
 "metadata": {
  "kernelspec": {
   "display_name": "Python 3.9.10 64-bit",
   "language": "python",
   "name": "python3"
  },
  "language_info": {
   "codemirror_mode": {
    "name": "ipython",
    "version": 3
   },
   "file_extension": ".py",
   "mimetype": "text/x-python",
   "name": "python",
   "nbconvert_exporter": "python",
   "pygments_lexer": "ipython3",
   "version": "3.10.6"
  },
  "orig_nbformat": 4,
  "vscode": {
   "interpreter": {
    "hash": "949777d72b0d2535278d3dc13498b2535136f6dfe0678499012e853ee9abcab1"
   }
  }
 },
 "nbformat": 4,
 "nbformat_minor": 2
}
