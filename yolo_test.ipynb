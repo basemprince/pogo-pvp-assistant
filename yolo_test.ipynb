{
 "cells": [
  {
   "cell_type": "code",
   "execution_count": 1,
   "metadata": {},
   "outputs": [],
   "source": [
    "import cv2\n",
    "import numpy as np\n",
    "from adbutils import adb\n",
    "import scrcpy.core as scrcpy\n",
    "import sys\n",
    "from PyQt5.QtWidgets import QApplication, QWidget, QVBoxLayout, QLabel, QPushButton\n",
    "from PyQt5.QtGui import QImage, QPixmap\n",
    "from PyQt5.QtCore import QTimer, Qt"
   ]
  },
  {
   "cell_type": "code",
   "execution_count": 2,
   "metadata": {},
   "outputs": [
    {
     "name": "stdout",
     "output_type": "stream",
     "text": [
      "Pixel 7 Pro\n"
     ]
    }
   ],
   "source": [
    "phones = ['Pixel 3 XL', 'Pixel 7 Pro']\n",
    "adb.connect(\"127.0.0.1:5037\")\n",
    "client = scrcpy.Client(device=adb.device_list()[0])\n",
    "client.start(threaded=True)\n",
    "print(client.device_name)\n",
    "phone_t = phones.index(client.device_name)"
   ]
  },
  {
   "cell_type": "code",
   "execution_count": 3,
   "metadata": {},
   "outputs": [
    {
     "ename": "",
     "evalue": "",
     "output_type": "error",
     "traceback": [
      "\u001b[1;31mCanceled future for execute_request message before replies were done"
     ]
    },
    {
     "ename": "",
     "evalue": "",
     "output_type": "error",
     "traceback": [
      "\u001b[1;31mThe Kernel crashed while executing code in the the current cell or a previous cell. Please review the code in the cell(s) to identify a possible cause of the failure. Click <a href='https://aka.ms/vscodeJupyterKernelCrash'>here</a> for more info. View Jupyter <a href='command:jupyter.viewOutput'>log</a> for further details."
     ]
    }
   ],
   "source": [
    "update_timer = 1\n",
    "def update_ui():\n",
    "    screen = client.last_frame\n",
    "\n",
    "    if screen is not None:\n",
    "        scale_percent = 10\n",
    "        width = int(screen.shape[1] * scale_percent / 100)\n",
    "        height = int(screen.shape[0] * scale_percent / 100)\n",
    "        dim = (width, height)\n",
    "        resized_image = cv2.resize(screen, dim, interpolation=cv2.INTER_AREA)\n",
    "        resized_image = cv2.cvtColor(resized_image, cv2.COLOR_BGR2RGB)\n",
    "\n",
    "        # clear_output(wait=True)\n",
    "        # Update the screenshot display\n",
    "        height, width, channel = resized_image.shape\n",
    "        bytes_per_line = channel * width\n",
    "        qimage = QImage(resized_image.data, width, height, bytes_per_line, QImage.Format_RGB888)\n",
    "        pixmap = QPixmap.fromImage(qimage)\n",
    "        screenshot_label.setPixmap(pixmap)\n",
    "\n",
    "    QTimer.singleShot(update_timer, update_ui)\n",
    "\n",
    "\n",
    "app = QApplication(sys.argv)\n",
    "window = QWidget()\n",
    "window.setWindowTitle(\"Pokémon Information Display\")\n",
    "layout = QVBoxLayout()\n",
    "\n",
    "\n",
    "screenshot_label = QLabel()\n",
    "layout.addWidget(screenshot_label)\n",
    "\n",
    "\n",
    "\n",
    "window.setLayout(layout)\n",
    "window.show()\n",
    "\n",
    "# Start the update loop\n",
    "QTimer.singleShot(update_timer, update_ui)\n",
    "\n",
    "app.exec_()"
   ]
  }
 ],
 "metadata": {
  "kernelspec": {
   "display_name": "Python 3.9.10 64-bit",
   "language": "python",
   "name": "python3"
  },
  "language_info": {
   "codemirror_mode": {
    "name": "ipython",
    "version": 3
   },
   "file_extension": ".py",
   "mimetype": "text/x-python",
   "name": "python",
   "nbconvert_exporter": "python",
   "pygments_lexer": "ipython3",
   "version": "3.10.6"
  },
  "orig_nbformat": 4,
  "vscode": {
   "interpreter": {
    "hash": "949777d72b0d2535278d3dc13498b2535136f6dfe0678499012e853ee9abcab1"
   }
  }
 },
 "nbformat": 4,
 "nbformat_minor": 2
}
