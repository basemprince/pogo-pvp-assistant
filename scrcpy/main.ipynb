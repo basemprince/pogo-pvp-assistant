{
 "cells": [
  {
   "cell_type": "code",
   "execution_count": 1,
   "metadata": {},
   "outputs": [
    {
     "data": {
      "text/plain": [
       "'already connected to 127.0.0.1:5037'"
      ]
     },
     "execution_count": 1,
     "metadata": {},
     "output_type": "execute_result"
    }
   ],
   "source": [
    "import core as scrcpy\n",
    "from adbutils import adb\n",
    "\n",
    "adb.connect(\"127.0.0.1:5037\")"
   ]
  },
  {
   "cell_type": "code",
   "execution_count": 2,
   "metadata": {},
   "outputs": [],
   "source": [
    "client = scrcpy.Client(device=adb.device_list()[0])"
   ]
  },
  {
   "cell_type": "code",
   "execution_count": 3,
   "metadata": {},
   "outputs": [
    {
     "name": "stdout",
     "output_type": "stream",
     "text": [
      "Pixel 3 XL\n"
     ]
    }
   ],
   "source": [
    "client.start(threaded=True)\n",
    "print(client.device_name)"
   ]
  },
  {
   "cell_type": "code",
   "execution_count": 37,
   "metadata": {},
   "outputs": [
    {
     "data": {
      "text/plain": [
       "array([[[ 0,  2,  2],\n",
       "        [ 0,  2,  2],\n",
       "        [ 0,  2,  2],\n",
       "        ...,\n",
       "        [ 0,  1,  1],\n",
       "        [ 0,  1,  1],\n",
       "        [ 0,  1,  1]],\n",
       "\n",
       "       [[ 0,  3,  3],\n",
       "        [ 0,  3,  3],\n",
       "        [ 0,  3,  3],\n",
       "        ...,\n",
       "        [ 0,  1,  1],\n",
       "        [ 0,  1,  1],\n",
       "        [ 0,  1,  1]],\n",
       "\n",
       "       [[ 2,  3,  0],\n",
       "        [ 2,  3,  0],\n",
       "        [ 2,  3,  0],\n",
       "        ...,\n",
       "        [ 0,  1,  1],\n",
       "        [ 0,  1,  1],\n",
       "        [ 0,  1,  1]],\n",
       "\n",
       "       ...,\n",
       "\n",
       "       [[12,  5, 11],\n",
       "        [12,  5, 11],\n",
       "        [ 9,  2,  8],\n",
       "        ...,\n",
       "        [ 3,  2, 12],\n",
       "        [ 3,  2, 12],\n",
       "        [ 3,  2, 12]],\n",
       "\n",
       "       [[12,  5, 11],\n",
       "        [12,  5, 11],\n",
       "        [ 9,  2,  8],\n",
       "        ...,\n",
       "        [ 6,  5, 15],\n",
       "        [ 6,  5, 15],\n",
       "        [ 6,  5, 15]],\n",
       "\n",
       "       [[12,  5, 11],\n",
       "        [12,  5, 11],\n",
       "        [ 9,  2,  8],\n",
       "        ...,\n",
       "        [ 8,  7, 17],\n",
       "        [ 8,  7, 17],\n",
       "        [ 8,  7, 17]]], dtype=uint8)"
      ]
     },
     "execution_count": 37,
     "metadata": {},
     "output_type": "execute_result"
    }
   ],
   "source": [
    "client.last_frame"
   ]
  }
 ],
 "metadata": {
  "kernelspec": {
   "display_name": "Python 3",
   "language": "python",
   "name": "python3"
  },
  "language_info": {
   "codemirror_mode": {
    "name": "ipython",
    "version": 3
   },
   "file_extension": ".py",
   "mimetype": "text/x-python",
   "name": "python",
   "nbconvert_exporter": "python",
   "pygments_lexer": "ipython3",
   "version": "3.11.3"
  },
  "orig_nbformat": 4
 },
 "nbformat": 4,
 "nbformat_minor": 2
}
