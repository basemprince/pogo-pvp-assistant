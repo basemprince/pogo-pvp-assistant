{
 "cells": [
  {
   "cell_type": "code",
   "execution_count": null,
   "metadata": {},
   "outputs": [],
   "source": [
    "import tkinter as tk\n",
    "from tkinter import ttk\n",
    "\n",
    "def create_pokemon_frame(container, name):\n",
    "    frame = ttk.Frame(container, padding=10)\n",
    "\n",
    "    ttk.Label(frame, text=name, font=(\"Arial\", 20)).grid(column=0, row=0, sticky=\"W\")\n",
    "    ttk.Label(frame, text=\"Fast Move: 3\").grid(column=0, row=1, sticky=\"W\")\n",
    "    ttk.Label(frame, text=\"Charge Move 1: 5\").grid(column=0, row=2, sticky=\"W\")\n",
    "    ttk.Label(frame, text=\"Charge Move 2: 4\").grid(column=0, row=3, sticky=\"W\")\n",
    "\n",
    "    return frame\n",
    "\n",
    "def main():\n",
    "    root = tk.Tk()\n",
    "    root.title(\"Pokemon Battle Assistant\")\n",
    "\n",
    "    mainframe = ttk.Frame(root, padding=\"30 30 30 30\")\n",
    "    mainframe.grid(column=0, row=0, sticky=(tk.W, tk.E, tk.N, tk.S))\n",
    "\n",
    "    opponent_frame = ttk.LabelFrame(mainframe, text=\"Opponent's Pokemon\", padding=20)\n",
    "    opponent_frame.grid(column=0, row=0, sticky=(tk.W, tk.E))\n",
    "\n",
    "    for i in range(3):\n",
    "        create_pokemon_frame(opponent_frame, f\"Pokemon {i + 1}\").grid(column=i, row=0)\n",
    "\n",
    "    info_frame = ttk.Frame(mainframe, padding=20)\n",
    "    info_frame.grid(column=0, row=1, sticky=(tk.W, tk.E))\n",
    "\n",
    "    ttk.Label(info_frame, text=\"Switch Timer: 00:00\").grid(column=0, row=0, sticky=\"W\")\n",
    "    ttk.Label(info_frame, text=\"Correct Alignment: Yes\").grid(column=1, row=0, sticky=\"W\")\n",
    "\n",
    "    ttk.Button(info_frame, text=\"Reset UI\").grid(column=2, row=0)\n",
    "    ttk.Button(info_frame, text=\"Start/Stop Recording\").grid(column=3, row=0)\n",
    "\n",
    "    your_frame = ttk.LabelFrame(mainframe, text=\"Your Pokemon\", padding=20)\n",
    "    your_frame.grid(column=0, row=2, sticky=(tk.W, tk.E))\n",
    "\n",
    "    for i in range(3):\n",
    "        create_pokemon_frame(your_frame, f\"Pokemon {i + 1}\").grid(column=i, row=0)\n",
    "\n",
    "    root.mainloop()\n",
    "\n",
    "if __name__ == \"__main__\":\n",
    "    main()\n"
   ]
  },
  {
   "cell_type": "code",
   "execution_count": null,
   "metadata": {},
   "outputs": [],
   "source": [
    "import tkinter as tk\n",
    "import customtkinter as ctk\n",
    "import time\n",
    "\n",
    "class PokemonFrame(ctk.CTkFrame):\n",
    "    def __init__(self, master, name):\n",
    "        super().__init__(master)\n",
    "\n",
    "        self.pokemon_name_label = ctk.CTkLabel(self, text=name, font=(\"Arial\", 20))\n",
    "        self.pokemon_name_label.grid(column=0, row=0, sticky=\"W\", padx=10, pady=10)\n",
    "\n",
    "        self.fast_move_label = ctk.CTkLabel(self, text=\"Fast Move: \")\n",
    "        self.fast_move_label.grid(column=0, row=1, sticky=\"W\", padx=10, pady=10)\n",
    "\n",
    "        self.charge_move1_label = ctk.CTkLabel(self, text=\"Charge Move 1: \")\n",
    "        self.charge_move1_label.grid(column=0, row=2, sticky=\"W\", padx=10, pady=10)\n",
    "\n",
    "        self.charge_move2_label = ctk.CTkLabel(self, text=\"Charge Move 2: \")\n",
    "        self.charge_move2_label.grid(column=0, row=3, sticky=\"W\", padx=10, pady=10)\n",
    "\n",
    "\n",
    "class PokemonBattleAssistant(ctk.CTk):\n",
    "    def __init__(self):\n",
    "        super().__init__()\n",
    "        self.title(\"Pokemon Battle Assistant\")\n",
    "\n",
    "        mainframe = ctk.CTkFrame(self)\n",
    "        mainframe.grid(column=0, row=0, sticky=(tk.W, tk.E, tk.N, tk.S), padx=30, pady=30)\n",
    "\n",
    "        opponent_frame = ctk.CTkLabel(mainframe, text=\"Opponent's Pokemon\")\n",
    "        opponent_frame.grid(column=0, row=0, sticky=(tk.W, tk.E), padx=20, pady=20)\n",
    "        opponent_frame.grid_columnconfigure((0, 1, 2), weight=1) \n",
    "\n",
    "        self.opp_pokemon_frames = [PokemonFrame(opponent_frame, f\"Pokemon {i + 1}\") for i in range(3)]\n",
    "        for i, frame in enumerate(self.opp_pokemon_frames):\n",
    "            frame.grid(column=i, row=0, padx=10, pady=10)\n",
    "\n",
    "        info_frame = ctk.CTkFrame(mainframe)\n",
    "        info_frame.grid(column=0, row=1, sticky=(tk.W, tk.E), padx=20, pady=20)\n",
    "\n",
    "        self.switch_timer_label = ctk.CTkLabel(info_frame, text=\"Switch Timer: \")\n",
    "        self.switch_timer_label.grid(column=0, row=0, sticky=\"W\", padx=(10,70), pady=10)\n",
    "\n",
    "        self.correct_alignment_label = ctk.CTkLabel(info_frame, text=\"Correct Alignment: \")\n",
    "        self.correct_alignment_label.grid(column=1, row=0, sticky=\"W\", padx=(0,70), pady=10)\n",
    "\n",
    "        ctk.CTkButton(info_frame, text=\"Reset UI\", command=self.reset_ui).grid(column=2, row=0, padx=10, pady=10)\n",
    "        ctk.CTkButton(info_frame, text=\"Start/Stop Recording\").grid(column=3, row=0, padx=10, pady=10)\n",
    "\n",
    "\n",
    "        your_frame = ctk.CTkLabel(mainframe, text=\"Your Pokemon\")\n",
    "        your_frame.grid(column=0, row=2, sticky=(tk.W, tk.E), padx=20, pady=20)\n",
    "        your_frame.grid_columnconfigure((0, 1, 2), weight=1) \n",
    "\n",
    "        for i in range(3):\n",
    "            PokemonFrame(your_frame, f\"Pokemon {i + 1}\").grid(column=i, row=0, padx=10, pady=10)        \n",
    "    def reset_ui(self):\n",
    "        # Reset all labels here\n",
    "        pass\n",
    "\n",
    "    def update_ui(self):\n",
    "        # Here you put the logic for updating the UI\n",
    "        self.update_label(0, \"pokemon_name_label\", \"New Pokemon Name\")\n",
    "\n",
    "        self.after(2000, self.update_ui)\n",
    "\n",
    "\n",
    "    def update_opp_label(self, index, name_of_variable, new_value):\n",
    "        frame = self.opp_pokemon_frames[index]\n",
    "        label = getattr(frame, name_of_variable)\n",
    "        label.configure(text=new_value)\n",
    "\n",
    "\n",
    "    def update_my_label(self, index, name_of_variable, new_value):\n",
    "        frame = self.opp_pokemon_frames[index]\n",
    "        label = getattr(frame, name_of_variable)\n",
    "        label.configure(text=new_value)\n",
    "\n",
    "if __name__ == \"__main__\":\n",
    "    app = PokemonBattleAssistant()\n",
    "    app.after(2000, app.update_ui)\n",
    "    app.mainloop()\n"
   ]
  },
  {
   "cell_type": "code",
   "execution_count": 135,
   "metadata": {},
   "outputs": [
    {
     "name": "stdout",
     "output_type": "stream",
     "text": [
      "Species Name: Giratina (Altered)\n",
      "Fast Moves: DRAGON_BREATH, SHADOW_CLAW\n",
      "Charged Moves: ANCIENT_POWER, DRAGON_CLAW, SHADOW_SNEAK, SHADOW_FORCE\n",
      "\n",
      "\n",
      "Species Name: Giratina (Origin)\n",
      "Fast Moves: DRAGON_TAIL, SHADOW_CLAW\n",
      "Charged Moves: OMINOUS_WIND, DRAGON_PULSE, SHADOW_BALL, SHADOW_FORCE\n",
      "\n",
      "\n",
      "Species Name: Trevenant\n",
      "Fast Moves: SHADOW_CLAW, SUCKER_PUNCH\n",
      "Charged Moves: SEED_BOMB, SHADOW_BALL, FOUL_PLAY\n",
      "\n",
      "\n"
     ]
    }
   ],
   "source": [
    "import json\n",
    "import utils\n",
    "# Load your data\n",
    "with open('json_files/pokemon.json', 'r') as f:\n",
    "    pokemon_details = json.load(f)\n",
    "\n",
    "moves = utils.load_moves_info()\n",
    "\n",
    "temp_corrected_opp_name = 'Giratina'\n",
    "temp_corrected_my_name = 'Trevenant'\n",
    "opp_move_data = [item for item in pokemon_details if temp_corrected_opp_name and item['speciesName'].startswith(temp_corrected_opp_name)]\n",
    "my_move_data = [item for item in pokemon_details if temp_corrected_my_name and item['speciesName'].startswith(temp_corrected_my_name)]\n",
    "\n",
    "league = 'Ultra League'\n",
    "for data in [opp_move_data,my_move_data]:\n",
    "    for entry in data:\n",
    "        print(f\"Species Name: {entry['speciesName']}\")\n",
    "        print(f\"Fast Moves: {', '.join(entry['fastMoves'])}\")\n",
    "        print(f\"Charged Moves: {', '.join(entry['chargedMoves'])}\")\n",
    "        print(\"\\n\")\n",
    "\n",
    "# Check if either Pokémon is Giratina and change form based on the league\n",
    "if temp_corrected_my_name == \"Giratina\":\n",
    "    if league in [\"great-league\", \"ultra-league\"]:\n",
    "        temp_corrected_my_name = \"Giratina (Altered)\"\n",
    "    else:\n",
    "        temp_corrected_my_name = \"Giratina (Origin)\"\n",
    "\n",
    "if temp_corrected_opp_name == \"Giratina\":\n",
    "    if league in [\"great-league\", \"ultra-league\"]:\n",
    "        temp_corrected_opp_name = \"Giratina (Altered)\"\n",
    "    else:\n",
    "        temp_corrected_opp_name = \"Giratina (Origin)\"\n"
   ]
  },
  {
   "cell_type": "code",
   "execution_count": 175,
   "metadata": {},
   "outputs": [
    {
     "data": {
      "text/plain": [
       "['Giratina (Altered)', 'Giratina (Origin)']"
      ]
     },
     "execution_count": 175,
     "metadata": {},
     "output_type": "execute_result"
    }
   ],
   "source": [
    "[pok['speciesName'] for pok in opp_move_data]"
   ]
  },
  {
   "cell_type": "code",
   "execution_count": 136,
   "metadata": {},
   "outputs": [
    {
     "name": "stdout",
     "output_type": "stream",
     "text": [
      "Loaded Ultra League JSON data\n"
     ]
    }
   ],
   "source": [
    "league_pok = f\"json_files/rankings/{league}.json\"\n",
    "\n",
    "with open(league_pok, 'r') as file:\n",
    "    league_pok = json.load(file)\n",
    "    print(f\"Loaded {league} JSON data\")"
   ]
  },
  {
   "cell_type": "code",
   "execution_count": 137,
   "metadata": {},
   "outputs": [],
   "source": [
    "def get_moveset_and_counts_2(pokemon_data, moves_data):\n",
    "    moveset = []\n",
    "    for pokemon in pokemon_data:\n",
    "        pokemon_moves = []\n",
    "        for fast_move in pokemon['fastMoves']:\n",
    "            for move in moves_data:\n",
    "                if fast_move.lower() == move['moveId'].lower():\n",
    "                    fast_move_data = move\n",
    "                    break\n",
    "            fast_count = round(fast_move_data['cooldown'] / 500)\n",
    "            fast_move_entry = {'fast_move': [fast_move, fast_count], 'charged_moves': []}\n",
    "            for charged_move in pokemon['chargedMoves']:\n",
    "                for move in moves_data:\n",
    "                    if charged_move.lower() == move['moveId'].lower():\n",
    "                        fast_move_entry['charged_moves'].append([charged_move, utils.calculate_move_counts(fast_move_data, move)])\n",
    "                        break\n",
    "            pokemon_moves.append(fast_move_entry)\n",
    "        moveset.append(pokemon_moves)\n",
    "\n",
    "    return moveset"
   ]
  },
  {
   "cell_type": "code",
   "execution_count": 168,
   "metadata": {},
   "outputs": [
    {
     "name": "stdout",
     "output_type": "stream",
     "text": [
      "[[{'fast_move': ['DRAGON_BREATH', 1], 'charged_moves': [['ANCIENT_POWER', [15, 15, 15]], ['DRAGON_CLAW', [12, 12, 11]], ['SHADOW_SNEAK', [15, 15, 15]], ['SHADOW_FORCE', [30, 30, 30]]]}, {'fast_move': ['SHADOW_CLAW', 2], 'charged_moves': [['ANCIENT_POWER', [6, 6, 5]], ['DRAGON_CLAW', [5, 4, 5]], ['SHADOW_SNEAK', [6, 6, 5]], ['SHADOW_FORCE', [12, 11, 11]]]}], [{'fast_move': ['DRAGON_TAIL', 3], 'charged_moves': [['OMINOUS_WIND', [5, 5, 5]], ['DRAGON_PULSE', [7, 7, 6]], ['SHADOW_BALL', [7, 6, 6]], ['SHADOW_FORCE', [10, 10, 10]]]}, {'fast_move': ['SHADOW_CLAW', 2], 'charged_moves': [['OMINOUS_WIND', [6, 6, 5]], ['DRAGON_PULSE', [8, 7, 8]], ['SHADOW_BALL', [7, 7, 7]], ['SHADOW_FORCE', [12, 11, 11]]]}]]\n"
     ]
    }
   ],
   "source": [
    "move_dic = get_moveset_and_counts_2(opp_move_data, moves)\n",
    "print(move_dic)"
   ]
  },
  {
   "cell_type": "code",
   "execution_count": 172,
   "metadata": {},
   "outputs": [
    {
     "data": {
      "text/plain": [
       "[{'fast_move': ['DRAGON_BREATH', 1],\n",
       "  'charged_moves': [['ANCIENT_POWER', [15, 15, 15]],\n",
       "   ['DRAGON_CLAW', [12, 12, 11]],\n",
       "   ['SHADOW_SNEAK', [15, 15, 15]],\n",
       "   ['SHADOW_FORCE', [30, 30, 30]]]},\n",
       " {'fast_move': ['SHADOW_CLAW', 2],\n",
       "  'charged_moves': [['ANCIENT_POWER', [6, 6, 5]],\n",
       "   ['DRAGON_CLAW', [5, 4, 5]],\n",
       "   ['SHADOW_SNEAK', [6, 6, 5]],\n",
       "   ['SHADOW_FORCE', [12, 11, 11]]]}]"
      ]
     },
     "execution_count": 172,
     "metadata": {},
     "output_type": "execute_result"
    }
   ],
   "source": [
    "move_dic[0]"
   ]
  },
  {
   "cell_type": "code",
   "execution_count": 164,
   "metadata": {},
   "outputs": [],
   "source": [
    "def choose_moveset(move_dic, chosen_moveset):\n",
    "    chosen_fast_move = chosen_moveset[0]\n",
    "    chosen_charged_moves = chosen_moveset[1:]\n",
    "\n",
    "    for move_entry in move_dic:\n",
    "        if move_entry['fast_move'][0].lower() == chosen_fast_move.lower():\n",
    "            chosen_move_entry = {'fast_move': move_entry['fast_move']}\n",
    "            chosen_move_entry['charged_moves'] = [move for move in move_entry['charged_moves'] if move[0].lower() in (move.lower() for move in chosen_charged_moves)]\n",
    "            return chosen_move_entry\n",
    "    return None\n"
   ]
  },
  {
   "cell_type": "code",
   "execution_count": 166,
   "metadata": {},
   "outputs": [
    {
     "name": "stdout",
     "output_type": "stream",
     "text": [
      "['SHADOW_CLAW', 'SHADOW_BALL', 'DRAGON_PULSE']\n",
      "{'fast_move': ['SHADOW_CLAW', 2], 'charged_moves': [['DRAGON_PULSE', [8, 7, 8]], ['SHADOW_BALL', [7, 7, 7]]]}\n"
     ]
    }
   ],
   "source": [
    "chosen_moveset = None\n",
    "pok_num = 1\n",
    "for pokemon in league_pok:\n",
    "    if opp_move_data[pok_num]['speciesName'].lower() == pokemon['speciesName'].lower():\n",
    "        chosen_moveset = pokemon['moveset']\n",
    "        break\n",
    "\n",
    "print(chosen_moveset)\n",
    "chosen_move_entry = choose_moveset(move_dic[pok_num], chosen_moveset)\n",
    "\n",
    "print(chosen_move_entry)"
   ]
  },
  {
   "cell_type": "code",
   "execution_count": 156,
   "metadata": {},
   "outputs": [
    {
     "name": "stdout",
     "output_type": "stream",
     "text": [
      "DRAGON_BREATH\n",
      "SHADOW_CLAW\n"
     ]
    }
   ],
   "source": [
    "for dic in move_dic[0]:\n",
    "    print(dic['fast_move'][0])"
   ]
  }
 ],
 "metadata": {
  "kernelspec": {
   "display_name": ".venv",
   "language": "python",
   "name": "python3"
  },
  "language_info": {
   "codemirror_mode": {
    "name": "ipython",
    "version": 3
   },
   "file_extension": ".py",
   "mimetype": "text/x-python",
   "name": "python",
   "nbconvert_exporter": "python",
   "pygments_lexer": "ipython3",
   "version": "3.10.6"
  },
  "orig_nbformat": 4
 },
 "nbformat": 4,
 "nbformat_minor": 2
}
